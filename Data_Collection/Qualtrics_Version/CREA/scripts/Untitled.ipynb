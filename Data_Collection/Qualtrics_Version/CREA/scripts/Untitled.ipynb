{
 "cells": [
  {
   "cell_type": "code",
   "execution_count": 1,
   "id": "8fffcaba",
   "metadata": {},
   "outputs": [],
   "source": [
    "answer = 'HITs to be reviewed and accepted.</p>\\n\\n<p>It may take up to 7 days after completion for HITs to be reviewed and accepted.</p>\\n\\n<p />\\n\\n<p><strong>Principal Investigator:</strong><br />\\nJeffrey Binder, MD<br />\\nProfessor of Neurology, Medical College of Wisconsin<br />\\njbinder@mcw.edu</p>\\n\\n</div>\\n</div>\\n</div>\\n</div>\\n<!-- End Instructions --><!-- Survey Link Layout -->\\n\\n\\n<form name=\"mturk_form\" method=\"post\" id=\"mturk_form\" action=\"https://www.mturk.com/mturk/externalSubmit\">\\n<input type=\"hidden\" value=\"\" name=\"assignmentId\" id=\"assignmentId\"/>\\n\\n<div class=\"row\" id=\"workContent\">\\n<div class=\"col-xs-12 col-md-6 col-md-offset-3\"><!-- Content for Worker -->\\n\\n<table class=\"table table-condensed table-bordered\">\\n\\t<colgroup>\\n\\t\\t<col class=\"col-xs-4 col-md-4\" />\\n\\t\\t<col class=\"col-xs-8 col-md-8\" />\\n\\t</colgroup>\\n\\t<tbody>\\n\\t\\t<tr>\\n\\t\\t\\t<td><label>Survey link:</label></td>\\n\\t\\t\\t<td><a class=\"dont-break-out\" href=\"https://mcwisc.co1.qualtrics.com/jfe/form/SV_5dt5OUxI4gjbNb0?Q_EED=eyJ3b3JkIjoic2F3IiwiZXhhbXBsZSI6IlRoZSBjYXJwZW50ZXIgY3V0IHRoZSB3b29kIHdpdGggYSBzYXcuIn0=\" target=\"_blank\">https://mcwisc.co1.qualtrics.com/jfe/form/SV_5dt5OUxI4gjbNb0?Q_EED=eyJ3b3JkIjoic2F3IiwiZXhhbXBsZSI6IlRoZSBjYXJwZW50ZXIgY3V0IHRoZSB3b29kIHdpdGggYSBzYXcuIn0=</a></td>\\n\\t\\t</tr>\\n\\t</tbody>\\n</table>\\n\\n<!-- End Content for Worker --><!-- Input from Worker -->\\n\\n<div class=\"form-group\"><label for=\"surveycode\">Provide the survey code here:</label> <input class=\"form-control\" id=\"surveycode\" name=\"surveycode\" placeholder=\"e.g. 123456\" required=\"\" type=\"text\" /></div>\\n<!-- End input from Worker --></div>\\n</div>\\n\\n<p class=\"text-center\">\\n    <button onclick=\"handleFormSubmit()\" class=\"btn btn-primary\" id=\"submitButton\">Submit</button>\\n</p>\\n</form>\\n\\n<!-- End Survey Link Layout --></section>\\n<!-- Please note that Bootstrap CSS/JS and JQuery are 3rd party libraries that may update their url/code at any time. Amazon Mechanical Turk (MTurk) is including these libraries as a default option for you, but is not responsible for any changes to the external libraries --><!-- External CSS references -->\\n<link crossorigin=\"anonymous\" href=\"https://maxcdn.bootstrapcdn.com/bootstrap/3.0.3/css/bootstrap.min.css\" integrity=\"sha384-IS73LIqjtYesmURkDE9MXKbXqYA8rvKEp/ghicjem7Vc3mG'"
   ]
  },
  {
   "cell_type": "code",
   "execution_count": 15,
   "id": "a8eea301",
   "metadata": {},
   "outputs": [],
   "source": [
    "import re,base64,json"
   ]
  },
  {
   "cell_type": "code",
   "execution_count": 23,
   "id": "92d9eae8",
   "metadata": {},
   "outputs": [],
   "source": [
    "m = re.search('href=\"https://mcwisc.co1.qualtrics.co[^\"]*\\?Q_EED=([^\"]*)\"',answer)"
   ]
  },
  {
   "cell_type": "code",
   "execution_count": 25,
   "id": "81cd6edd",
   "metadata": {},
   "outputs": [],
   "source": [
    "d = base64.urlsafe_b64decode(m[1])"
   ]
  },
  {
   "cell_type": "code",
   "execution_count": 26,
   "id": "a4d4d65b",
   "metadata": {},
   "outputs": [
    {
     "data": {
      "text/plain": [
       "'saw'"
      ]
     },
     "execution_count": 26,
     "metadata": {},
     "output_type": "execute_result"
    }
   ],
   "source": [
    "json.loads(d)['word']"
   ]
  },
  {
   "cell_type": "code",
   "execution_count": null,
   "id": "9086129a",
   "metadata": {},
   "outputs": [],
   "source": []
  }
 ],
 "metadata": {
  "kernelspec": {
   "display_name": "Python 3 (ipykernel)",
   "language": "python",
   "name": "python3"
  },
  "language_info": {
   "codemirror_mode": {
    "name": "ipython",
    "version": 3
   },
   "file_extension": ".py",
   "mimetype": "text/x-python",
   "name": "python",
   "nbconvert_exporter": "python",
   "pygments_lexer": "ipython3",
   "version": "3.8.13"
  }
 },
 "nbformat": 4,
 "nbformat_minor": 5
}
