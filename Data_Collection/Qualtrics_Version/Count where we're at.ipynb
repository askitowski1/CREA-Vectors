{
 "cells": [
  {
   "cell_type": "code",
   "execution_count": 1,
   "id": "f6f5c7fc",
   "metadata": {},
   "outputs": [],
   "source": [
    "using CSV,DataFrames"
   ]
  },
  {
   "cell_type": "code",
   "execution_count": 2,
   "id": "07b55961",
   "metadata": {},
   "outputs": [
    {
     "data": {
      "text/plain": [
       "\"newwords.csv\""
      ]
     },
     "execution_count": 2,
     "metadata": {},
     "output_type": "execute_result"
    }
   ],
   "source": [
    "input_fname = \"newwords.csv\""
   ]
  },
  {
   "cell_type": "code",
   "execution_count": 4,
   "id": "bb95fc91",
   "metadata": {},
   "outputs": [
    {
     "data": {
      "text/html": [
       "<div><div style = \"float: left;\"><span>47×2 DataFrame</span></div><div style = \"float: right;\"><span style = \"font-style: italic;\">22 rows omitted</span></div><div style = \"clear: both;\"></div></div><div class = \"data-frame\" style = \"overflow-x: scroll;\"><table class = \"data-frame\" style = \"margin-bottom: 6px;\"><thead><tr class = \"header\"><th class = \"rowNumber\" style = \"font-weight: bold; text-align: right;\">Row</th><th style = \"text-align: left;\">Word</th><th style = \"text-align: left;\">N</th></tr><tr class = \"subheader headerLastRow\"><th class = \"rowNumber\" style = \"font-weight: bold; text-align: right;\"></th><th title = \"String15\" style = \"text-align: left;\">String15</th><th title = \"Int64\" style = \"text-align: left;\">Int64</th></tr></thead><tbody><tr><td class = \"rowNumber\" style = \"font-weight: bold; text-align: right;\">1</td><td style = \"text-align: left;\">tree</td><td style = \"text-align: right;\">9</td></tr><tr><td class = \"rowNumber\" style = \"font-weight: bold; text-align: right;\">2</td><td style = \"text-align: left;\">hammer</td><td style = \"text-align: right;\">8</td></tr><tr><td class = \"rowNumber\" style = \"font-weight: bold; text-align: right;\">3</td><td style = \"text-align: left;\">skunk</td><td style = \"text-align: right;\">33</td></tr><tr><td class = \"rowNumber\" style = \"font-weight: bold; text-align: right;\">4</td><td style = \"text-align: left;\">kangaroo</td><td style = \"text-align: right;\">32</td></tr><tr><td class = \"rowNumber\" style = \"font-weight: bold; text-align: right;\">5</td><td style = \"text-align: left;\">grasshopper</td><td style = \"text-align: right;\">28</td></tr><tr><td class = \"rowNumber\" style = \"font-weight: bold; text-align: right;\">6</td><td style = \"text-align: left;\">onion</td><td style = \"text-align: right;\">30</td></tr><tr><td class = \"rowNumber\" style = \"font-weight: bold; text-align: right;\">7</td><td style = \"text-align: left;\">ladder</td><td style = \"text-align: right;\">31</td></tr><tr><td class = \"rowNumber\" style = \"font-weight: bold; text-align: right;\">8</td><td style = \"text-align: left;\">peacock</td><td style = \"text-align: right;\">30</td></tr><tr><td class = \"rowNumber\" style = \"font-weight: bold; text-align: right;\">9</td><td style = \"text-align: left;\">saw</td><td style = \"text-align: right;\">32</td></tr><tr><td class = \"rowNumber\" style = \"font-weight: bold; text-align: right;\">10</td><td style = \"text-align: left;\">bear</td><td style = \"text-align: right;\">29</td></tr><tr><td class = \"rowNumber\" style = \"font-weight: bold; text-align: right;\">11</td><td style = \"text-align: left;\">giraffe</td><td style = \"text-align: right;\">33</td></tr><tr><td class = \"rowNumber\" style = \"font-weight: bold; text-align: right;\">12</td><td style = \"text-align: left;\">cauliflower</td><td style = \"text-align: right;\">30</td></tr><tr><td class = \"rowNumber\" style = \"font-weight: bold; text-align: right;\">13</td><td style = \"text-align: left;\">clock</td><td style = \"text-align: right;\">30</td></tr><tr><td style = \"text-align: right;\">&vellip;</td><td style = \"text-align: right;\">&vellip;</td><td style = \"text-align: right;\">&vellip;</td></tr><tr><td class = \"rowNumber\" style = \"font-weight: bold; text-align: right;\">36</td><td style = \"text-align: left;\">hulahoop</td><td style = \"text-align: right;\">29</td></tr><tr><td class = \"rowNumber\" style = \"font-weight: bold; text-align: right;\">37</td><td style = \"text-align: left;\">necklace</td><td style = \"text-align: right;\">30</td></tr><tr><td class = \"rowNumber\" style = \"font-weight: bold; text-align: right;\">38</td><td style = \"text-align: left;\">watermelon</td><td style = \"text-align: right;\">30</td></tr><tr><td class = \"rowNumber\" style = \"font-weight: bold; text-align: right;\">39</td><td style = \"text-align: left;\">whisk</td><td style = \"text-align: right;\">31</td></tr><tr><td class = \"rowNumber\" style = \"font-weight: bold; text-align: right;\">40</td><td style = \"text-align: left;\">well</td><td style = \"text-align: right;\">28</td></tr><tr><td class = \"rowNumber\" style = \"font-weight: bold; text-align: right;\">41</td><td style = \"text-align: left;\">clothespin</td><td style = \"text-align: right;\">26</td></tr><tr><td class = \"rowNumber\" style = \"font-weight: bold; text-align: right;\">42</td><td style = \"text-align: left;\">padlock</td><td style = \"text-align: right;\">26</td></tr><tr><td class = \"rowNumber\" style = \"font-weight: bold; text-align: right;\">43</td><td style = \"text-align: left;\">snowman</td><td style = \"text-align: right;\">24</td></tr><tr><td class = \"rowNumber\" style = \"font-weight: bold; text-align: right;\">44</td><td style = \"text-align: left;\">spinning top</td><td style = \"text-align: right;\">24</td></tr><tr><td class = \"rowNumber\" style = \"font-weight: bold; text-align: right;\">45</td><td style = \"text-align: left;\">moon</td><td style = \"text-align: right;\">24</td></tr><tr><td class = \"rowNumber\" style = \"font-weight: bold; text-align: right;\">46</td><td style = \"text-align: left;\">wrench</td><td style = \"text-align: right;\">23</td></tr><tr><td class = \"rowNumber\" style = \"font-weight: bold; text-align: right;\">47</td><td style = \"text-align: left;\">suit</td><td style = \"text-align: right;\">23</td></tr></tbody></table></div>"
      ],
      "text/latex": [
       "\\begin{tabular}{r|cc}\n",
       "\t& Word & N\\\\\n",
       "\t\\hline\n",
       "\t& String15 & Int64\\\\\n",
       "\t\\hline\n",
       "\t1 & tree & 9 \\\\\n",
       "\t2 & hammer & 8 \\\\\n",
       "\t3 & skunk & 33 \\\\\n",
       "\t4 & kangaroo & 32 \\\\\n",
       "\t5 & grasshopper & 28 \\\\\n",
       "\t6 & onion & 30 \\\\\n",
       "\t7 & ladder & 31 \\\\\n",
       "\t8 & peacock & 30 \\\\\n",
       "\t9 & saw & 32 \\\\\n",
       "\t10 & bear & 29 \\\\\n",
       "\t11 & giraffe & 33 \\\\\n",
       "\t12 & cauliflower & 30 \\\\\n",
       "\t13 & clock & 30 \\\\\n",
       "\t14 & envelope & 26 \\\\\n",
       "\t15 & belt & 31 \\\\\n",
       "\t16 & airplane & 27 \\\\\n",
       "\t17 & cigar & 30 \\\\\n",
       "\t18 & dartboard & 30 \\\\\n",
       "\t19 & flamingo & 28 \\\\\n",
       "\t20 & guitar & 29 \\\\\n",
       "\t21 & hat & 30 \\\\\n",
       "\t22 & sock & 29 \\\\\n",
       "\t23 & rollingpin & 29 \\\\\n",
       "\t24 & shoe & 29 \\\\\n",
       "\t25 & needle & 30 \\\\\n",
       "\t26 & rollarskate & 31 \\\\\n",
       "\t27 & lawnmower & 29 \\\\\n",
       "\t28 & necktie & 29 \\\\\n",
       "\t29 & plunger & 28 \\\\\n",
       "\t30 & pepper & 31 \\\\\n",
       "\t$\\dots$ & $\\dots$ & $\\dots$ \\\\\n",
       "\\end{tabular}\n"
      ],
      "text/plain": [
       "\u001b[1m47×2 DataFrame\u001b[0m\n",
       "\u001b[1m Row \u001b[0m│\u001b[1m Word         \u001b[0m\u001b[1m N     \u001b[0m\n",
       "     │\u001b[90m String15     \u001b[0m\u001b[90m Int64 \u001b[0m\n",
       "─────┼─────────────────────\n",
       "   1 │ tree              9\n",
       "   2 │ hammer            8\n",
       "   3 │ skunk            33\n",
       "   4 │ kangaroo         32\n",
       "   5 │ grasshopper      28\n",
       "   6 │ onion            30\n",
       "   7 │ ladder           31\n",
       "   8 │ peacock          30\n",
       "   9 │ saw              32\n",
       "  10 │ bear             29\n",
       "  11 │ giraffe          33\n",
       "  ⋮  │      ⋮          ⋮\n",
       "  38 │ watermelon       30\n",
       "  39 │ whisk            31\n",
       "  40 │ well             28\n",
       "  41 │ clothespin       26\n",
       "  42 │ padlock          26\n",
       "  43 │ snowman          24\n",
       "  44 │ spinning top     24\n",
       "  45 │ moon             24\n",
       "  46 │ wrench           23\n",
       "  47 │ suit             23\n",
       "\u001b[36m            26 rows omitted\u001b[0m"
      ]
     },
     "execution_count": 4,
     "metadata": {},
     "output_type": "execute_result"
    }
   ],
   "source": [
    "df = CSV.read(input_fname,DataFrame)\n",
    "\n",
    "allwords = unique(df[!,:Word])\n",
    "\n",
    "d = DataFrame(\n",
    "    \"Word\"=>allwords,\n",
    "    \"N\"=>[sum(df[!,:Word] .== w) for w in allwords]\n",
    ")"
   ]
  },
  {
   "cell_type": "code",
   "execution_count": 5,
   "id": "1285c014",
   "metadata": {},
   "outputs": [
    {
     "data": {
      "text/plain": [
       "\"counts.csv\""
      ]
     },
     "execution_count": 5,
     "metadata": {},
     "output_type": "execute_result"
    }
   ],
   "source": [
    "CSV.write(\"counts.csv\",d)"
   ]
  },
  {
   "cell_type": "code",
   "execution_count": null,
   "id": "849e6009",
   "metadata": {},
   "outputs": [],
   "source": []
  }
 ],
 "metadata": {
  "kernelspec": {
   "display_name": "Julia 1.8.5",
   "language": "julia",
   "name": "julia-1.8"
  },
  "language_info": {
   "file_extension": ".jl",
   "mimetype": "application/julia",
   "name": "julia",
   "version": "1.8.5"
  }
 },
 "nbformat": 4,
 "nbformat_minor": 5
}
